{
 "cells": [
  {
   "attachments": {},
   "cell_type": "markdown",
   "metadata": {},
   "source": [
    "# Language Model: Write a Poem"
   ]
  },
  {
   "cell_type": "code",
   "execution_count": 1,
   "metadata": {},
   "outputs": [
    {
     "name": "stdout",
     "output_type": "stream",
     "text": [
      "File ‘files/robert_frost.txt’ already there; not retrieving.\n"
     ]
    }
   ],
   "source": [
    "!wget -O files/robert_frost.txt -nc 'https://raw.githubusercontent.com/lazyprogrammer/machine_learning_examples/master/hmm_class/robert_frost.txt'"
   ]
  },
  {
   "cell_type": "code",
   "execution_count": 2,
   "metadata": {},
   "outputs": [],
   "source": [
    "import string\n",
    "from collections import defaultdict\n",
    "from functools import partial\n",
    "\n",
    "import numpy as np"
   ]
  },
  {
   "cell_type": "code",
   "execution_count": 3,
   "metadata": {},
   "outputs": [],
   "source": [
    "random = np.random.default_rng(29854)"
   ]
  },
  {
   "cell_type": "code",
   "execution_count": 4,
   "metadata": {},
   "outputs": [
    {
     "data": {
      "text/plain": [
       "['two roads diverged in a yellow wood',\n",
       " 'and sorry i could not travel both',\n",
       " 'and be one traveler long i stood',\n",
       " 'and looked down one as far as i could',\n",
       " 'to where it bent in the undergrowth']"
      ]
     },
     "execution_count": 4,
     "metadata": {},
     "output_type": "execute_result"
    }
   ],
   "source": [
    "documents = []\n",
    "for line in open('files/robert_frost.txt'):\n",
    "    line = line.strip()\n",
    "    if line:\n",
    "        documents.append(line.lower().translate(str.maketrans('', '', string.punctuation)))\n",
    "documents[:5]"
   ]
  },
  {
   "cell_type": "code",
   "execution_count": 5,
   "metadata": {},
   "outputs": [],
   "source": [
    "pi = defaultdict(int)\n",
    "a1 = defaultdict(partial(defaultdict, int))\n",
    "a2 = defaultdict(partial(defaultdict, partial(defaultdict, int)))"
   ]
  },
  {
   "cell_type": "code",
   "execution_count": 6,
   "metadata": {},
   "outputs": [],
   "source": [
    "for document in documents:\n",
    "    pi[document.split()[0]] += 1"
   ]
  },
  {
   "cell_type": "code",
   "execution_count": 7,
   "metadata": {},
   "outputs": [],
   "source": [
    "for document in documents:\n",
    "    try:\n",
    "        a, b, *_ = document.split()\n",
    "    except:\n",
    "        continue\n",
    "    a1[a][b] += 1"
   ]
  },
  {
   "cell_type": "code",
   "execution_count": 8,
   "metadata": {},
   "outputs": [],
   "source": [
    "END = '--END--'\n",
    "prev1 = prev2 = None\n",
    "for document in documents:\n",
    "    generator = iter(document.split())\n",
    "    try:\n",
    "        prev2 = next(generator)\n",
    "        prev1 = next(generator)\n",
    "        for token in generator:\n",
    "            a2[prev2][prev1][token] += 1\n",
    "            prev2 = prev1\n",
    "            prev1 = token\n",
    "        a2[prev2][prev1][END] += 1\n",
    "    except:\n",
    "        continue"
   ]
  },
  {
   "cell_type": "code",
   "execution_count": 9,
   "metadata": {},
   "outputs": [],
   "source": [
    "def choice(values: 'dict[str, float]') -> str:\n",
    "    items, probs = zip(*values.items())\n",
    "    total = np.sum(probs)\n",
    "    rand = random.uniform() * total\n",
    "    cumsum = 0\n",
    "    for i, (prob, item) in enumerate(zip(probs, items)):\n",
    "        cumsum += prob  # type: ignore\n",
    "        if cumsum > rand:\n",
    "            return item  # type: ignore\n",
    "    assert False"
   ]
  },
  {
   "cell_type": "code",
   "execution_count": 10,
   "metadata": {},
   "outputs": [],
   "source": [
    "def generate(pi, a1, a2):\n",
    "    line = ''\n",
    "    first = choice(pi)\n",
    "    line += first\n",
    "    if first not in a1:\n",
    "        return line\n",
    "    second = choice(a1[first])\n",
    "    line += ' ' + second\n",
    "    prev1 = second\n",
    "    prev2 = first\n",
    "    while True:\n",
    "        if prev2 not in a2 or prev1 not in a2[prev2]:\n",
    "            return line\n",
    "        word = choice(a2[prev2][prev1])\n",
    "        if word == END:\n",
    "            return line\n",
    "        line += ' ' + word\n",
    "        prev2 = prev1\n",
    "        prev1 = word"
   ]
  },
  {
   "cell_type": "code",
   "execution_count": 11,
   "metadata": {},
   "outputs": [
    {
     "data": {
      "text/plain": [
       "['only bewitched so i would last him longer',\n",
       " 'i pushed myself upstairs and in the cold a digger',\n",
       " 'had spilled them near the window toward the light',\n",
       " 'of youthful forms and youthful faces']"
      ]
     },
     "execution_count": 11,
     "metadata": {},
     "output_type": "execute_result"
    }
   ],
   "source": [
    "[generate(pi, a1, a2) for i in range(4)]"
   ]
  }
 ],
 "metadata": {
  "kernelspec": {
   "display_name": "Python 3",
   "language": "python",
   "name": "python3"
  },
  "language_info": {
   "codemirror_mode": {
    "name": "ipython",
    "version": 3
   },
   "file_extension": ".py",
   "mimetype": "text/x-python",
   "name": "python",
   "nbconvert_exporter": "python",
   "pygments_lexer": "ipython3",
   "version": "3.10.6 (main, Nov 14 2022, 16:10:14) [GCC 11.3.0]"
  },
  "orig_nbformat": 4,
  "vscode": {
   "interpreter": {
    "hash": "916dbcbb3f70747c44a77c7bcd40155683ae19c65e1c03b4aa3499c5328201f1"
   }
  }
 },
 "nbformat": 4,
 "nbformat_minor": 2
}
