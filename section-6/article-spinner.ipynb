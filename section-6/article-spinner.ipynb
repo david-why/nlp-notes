{
 "cells": [
  {
   "attachments": {},
   "cell_type": "markdown",
   "metadata": {},
   "source": [
    "# Article Spinner"
   ]
  },
  {
   "cell_type": "code",
   "execution_count": 1,
   "metadata": {},
   "outputs": [],
   "source": [
    "import string\n",
    "from collections import defaultdict\n",
    "from functools import partial\n",
    "\n",
    "import nltk\n",
    "import numpy as np\n",
    "import pandas as pd\n",
    "from nltk.tokenize import TreebankWordDetokenizer, word_tokenize"
   ]
  },
  {
   "cell_type": "code",
   "execution_count": 2,
   "metadata": {},
   "outputs": [],
   "source": [
    "random = np.random.default_rng(29587)"
   ]
  },
  {
   "cell_type": "code",
   "execution_count": 3,
   "metadata": {},
   "outputs": [],
   "source": [
    "try:\n",
    "    word_tokenize('hello world')\n",
    "except:\n",
    "    nltk.download('punkt')"
   ]
  },
  {
   "cell_type": "code",
   "execution_count": 4,
   "metadata": {},
   "outputs": [
    {
     "name": "stdout",
     "output_type": "stream",
     "text": [
      "File ‘files/bbc_text_cls.csv’ already there; not retrieving.\n"
     ]
    }
   ],
   "source": [
    "!wget -O files/bbc_text_cls.csv -nc https://lazyprogrammer.me/course_files/nlp/bbc_text_cls.csv"
   ]
  },
  {
   "cell_type": "code",
   "execution_count": 5,
   "metadata": {},
   "outputs": [],
   "source": [
    "df = pd.read_csv('files/bbc_text_cls.csv')"
   ]
  },
  {
   "cell_type": "code",
   "execution_count": 6,
   "metadata": {},
   "outputs": [
    {
     "data": {
      "text/plain": [
       "0    Ad sales boost Time Warner profit\\n\\nQuarterly...\n",
       "1    Dollar gains on Greenspan speech\\n\\nThe dollar...\n",
       "2    Yukos unit buyer faces loan claim\\n\\nThe owner...\n",
       "3    High fuel prices hit BA's profits\\n\\nBritish A...\n",
       "4    Pernod takeover talk lifts Domecq\\n\\nShares in...\n",
       "Name: text, dtype: object"
      ]
     },
     "execution_count": 6,
     "metadata": {},
     "output_type": "execute_result"
    }
   ],
   "source": [
    "documents = df.loc[df['labels'] == 'business']['text']\n",
    "documents[:5]"
   ]
  },
  {
   "cell_type": "code",
   "execution_count": 7,
   "metadata": {},
   "outputs": [],
   "source": [
    "A = defaultdict(partial(defaultdict, partial(defaultdict, int)))"
   ]
  },
  {
   "cell_type": "code",
   "execution_count": 8,
   "metadata": {},
   "outputs": [],
   "source": [
    "for document in documents:\n",
    "    tokens = word_tokenize(document)\n",
    "    for i, token in enumerate(tokens):\n",
    "        if i == 0 or i == len(tokens) - 1:\n",
    "            continue\n",
    "        A[tokens[i-1]][tokens[i+1]][token] += 1"
   ]
  },
  {
   "cell_type": "code",
   "execution_count": 9,
   "metadata": {},
   "outputs": [
    {
     "data": {
      "text/plain": [
       "defaultdict(int,\n",
       "            {'unit': 1,\n",
       "             'began': 1,\n",
       "             'closer': 1,\n",
       "             'struggles': 1,\n",
       "             'capacity': 1,\n",
       "             'facilities': 1,\n",
       "             'continued': 1})"
      ]
     },
     "execution_count": 9,
     "metadata": {},
     "output_type": "execute_result"
    }
   ],
   "source": [
    "A['production']['to']"
   ]
  },
  {
   "cell_type": "code",
   "execution_count": 10,
   "metadata": {},
   "outputs": [],
   "source": [
    "def choice(values: 'dict[str, float]') -> str:\n",
    "    items, probs = zip(*values.items())\n",
    "    total = np.sum(probs)\n",
    "    rand = random.uniform() * total\n",
    "    cumsum = 0\n",
    "    for i, (prob, item) in enumerate(zip(probs, items)):\n",
    "        cumsum += prob  # type: ignore\n",
    "        if cumsum > rand:\n",
    "            return item  # type: ignore\n",
    "    assert False"
   ]
  },
  {
   "cell_type": "code",
   "execution_count": 11,
   "metadata": {},
   "outputs": [],
   "source": [
    "def can_spin(token):\n",
    "    if any(map('1234567890'.__contains__, token)):\n",
    "        return False\n",
    "    # if token[:1].isupper():\n",
    "    #     return False\n",
    "    return True"
   ]
  },
  {
   "cell_type": "code",
   "execution_count": 12,
   "metadata": {},
   "outputs": [],
   "source": [
    "def can_replace(token, prev=None):\n",
    "    if token in string.punctuation:\n",
    "        return False\n",
    "    if token == prev:\n",
    "        return False\n",
    "    if prev is not None and token[:1].upper() != prev[:1].upper():\n",
    "        return False\n",
    "    return True"
   ]
  },
  {
   "cell_type": "code",
   "execution_count": 13,
   "metadata": {},
   "outputs": [],
   "source": [
    "def spin(document, percentage=1):\n",
    "    tokens = word_tokenize(document)\n",
    "    changed = 0\n",
    "    flag = False\n",
    "    for i in range(len(tokens)):\n",
    "        if flag:\n",
    "            flag = False\n",
    "            continue\n",
    "        token = tokens[i]\n",
    "        if not can_spin(token):\n",
    "            continue\n",
    "        if i == 0 or i == len(tokens) - 1:\n",
    "            continue\n",
    "        prev = tokens[i - 1]\n",
    "        if prev not in A:\n",
    "            continue\n",
    "        outer = A[prev]\n",
    "        after = tokens[i + 1]\n",
    "        if after not in outer or not any(\n",
    "            map(partial(can_replace, prev=token), outer[after])\n",
    "        ):\n",
    "            continue\n",
    "        mapping = outer[after]\n",
    "        rand = random.uniform()\n",
    "        if rand < percentage:\n",
    "            word = token\n",
    "            while not can_replace(word, token):\n",
    "                word = choice(mapping)\n",
    "            print(token, word)\n",
    "            tokens[i] = word\n",
    "            changed += 1\n",
    "            flag = True\n",
    "    twd = TreebankWordDetokenizer()\n",
    "    return twd.detokenize(tokens), changed / len(tokens)"
   ]
  },
  {
   "cell_type": "code",
   "execution_count": 14,
   "metadata": {},
   "outputs": [
    {
     "name": "stdout",
     "output_type": "stream",
     "text": [
      "agreed access\n",
      "pay put\n",
      "Indonesian IMF\n",
      "a an\n",
      "conducted calculated\n",
      "cotton case\n",
      "penalty poll\n",
      "agreed applies\n",
      "three two\n",
      "It IDS\n",
      "what which\n",
      "give get\n",
      "Indonesia India\n",
      "company country\n",
      "disguise demand\n",
      "invoice invitation\n",
      "bribe boxes\n",
      "Monsanto MCI\n",
      "activists Asia\n",
      "plans proposal\n",
      "Indonesia Iraq\n",
      "Despite During\n",
      "bribe brand\n",
      "authorise against\n",
      "waiving wake\n",
      "the their\n",
      "Monsanto MCI\n",
      "admitted agreed\n",
      "number narrowing\n",
      "chemicals-and-crops combined\n",
      "irregularities inflation\n",
      "internal in-depth\n",
      "Justice justice\n",
      "Securities social\n",
      "Exchange European\n",
      "SEC SUVs\n",
      "criminal creditors\n",
      "Department development\n",
      "Justice Japan\n",
      "SEC sector\n",
      "bribe bide\n",
      "assistant a\n",
      "Monsanto Menatep\n",
      "agreed admitted\n",
      "pay provide\n",
      "Department discovery\n",
      "investigations investigation\n",
      "It India\n",
      "SEC state\n",
      "settle shift\n",
      "Monsanto Malaysia\n",
      "actions aircraft\n",
      "adding arguing\n",
      "address allay\n",
      "activities ante\n",
      "and Analysts\n",
      "throughout to\n"
     ]
    },
    {
     "data": {
      "text/plain": [
       "('Monsanto fined $1.5m for bribery\\n\\nThe US agrochemical giant Monsanto has agreed to pay a $1.5m (£799,000) fine for bribing an Indonesian official.\\n\\nMonsanto admitted one of its employees paid the senior official two years ago in a bid to avoid environmental impact studies being conducted on its cotton. In addition to the penalty, Monsanto also agreed to three years\\' close monitoring of its business practices by the American authorities. It said it accepted full responsibility for what it called improper activities.\\n\\nA former senior manager at Monsanto directed an Indonesian consulting firm to give a $50,000 bribe to a high-level official in Indonesia\\'s environment ministry in 2002. The manager told the company to disguise an invoice for the bribe as \"consulting fees\".\\n\\nMonsanto was facing stiff opposition from activists and farmers who were campaigning against its plans to introduce genetically-modified cotton in Indonesia. Despite the bribe, the official did not authorise the waiving of the environmental study requirement. Monsanto also has admitted to paying bribes to a number of other high-ranking officials between 1997 and 2002.\\n\\nThe chemicals-and-crops firm said it became aware of irregularities at a Jakarta-based subsidiary in 2001 and launched an internal investigation before informing the US Department of Justice and the Securities and Exchange Commission (SEC). Monsanto faced both criminal and civil charges from the Department of Justice and the SEC. \"Companies cannot bribe their way into favourable treatment by foreign officials,\" said Christopher Wray, assistant US attorney general. Monsanto has agreed to pay $1m to the Department of Justice, adopt internal compliance measures, and co-operate with continuing civil and criminal investigations. It is also paying $500,000 to the SEC to settle the bribe charge and other related violations. Monsanto said it accepted full responsibility for its employees\\' actions, adding that it had taken \"remedial actions to address the activities in Indonesia\" and had been \"fully co-operative\" throughout the investigative process.',\n",
       " ('Monsanto fined $1.5m for bribery The US agrochemical giant Monsanto has access to put a $1.5m (£799,000) fine for bribing an IMF official . Monsanto admitted one of its employees paid the senior official two years ago in an bid to avoid environmental impact studies being calculated on its case . In addition to the poll, Monsanto also applies to two years\\' close monitoring of its business practices by the American authorities . IDS said it accepted full responsibility for which it called improper activities . A former senior manager at Monsanto directed an Indonesian consulting firm to get a $50,000 bribe to a high-level official in India\\'s environment ministry in 2002 . The manager told the country to demand an invitation for the boxes as \"consulting fees\". MCI was facing stiff opposition from Asia and farmers who were campaigning against its proposal to introduce genetically-modified cotton in Iraq . During the brand, the official did not against the wake of their environmental study requirement . MCI also has agreed to paying bribes to a narrowing of other high-ranking officials between 1997 and 2002 . The combined firm said it became aware of inflation at a Jakarta-based subsidiary in 2001 and launched an in-depth investigation before informing the US Department of justice and the social and European Commission (SUVs). Monsanto faced both creditors and civil charges from the development of Japan and the sector . \"Companies cannot bide their way into favourable treatment by foreign officials,\" said Christopher Wray, a US attorney general . Menatep has admitted to provide $1m to the discovery of Justice, adopt internal compliance measures, and co-operate with continuing civil and criminal investigation . India is also paying $500,000 to the state to shift the bribe charge and other related violations . Malaysia said it accepted full responsibility for its employees\\' aircraft, arguing that it had taken \"remedial actions to allay the ante in Indonesia\" Analysts had been \"fully co-operative\" to the investigative process.',\n",
       "  0.15877437325905291))"
      ]
     },
     "execution_count": 14,
     "metadata": {},
     "output_type": "execute_result"
    }
   ],
   "source": [
    "document = documents[random.choice(len(documents))]\n",
    "(document, spin(document))"
   ]
  }
 ],
 "metadata": {
  "kernelspec": {
   "display_name": "Python 3",
   "language": "python",
   "name": "python3"
  },
  "language_info": {
   "codemirror_mode": {
    "name": "ipython",
    "version": 3
   },
   "file_extension": ".py",
   "mimetype": "text/x-python",
   "name": "python",
   "nbconvert_exporter": "python",
   "pygments_lexer": "ipython3",
   "version": "3.10.6"
  },
  "orig_nbformat": 4,
  "vscode": {
   "interpreter": {
    "hash": "916dbcbb3f70747c44a77c7bcd40155683ae19c65e1c03b4aa3499c5328201f1"
   }
  }
 },
 "nbformat": 4,
 "nbformat_minor": 2
}
