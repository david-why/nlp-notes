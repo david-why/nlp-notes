{
 "cells": [
  {
   "attachments": {},
   "cell_type": "markdown",
   "metadata": {},
   "source": [
    "# Cipher Decryption"
   ]
  },
  {
   "attachments": {},
   "cell_type": "markdown",
   "metadata": {},
   "source": [
    "## Procedure\n",
    "![Procedure](./procedure.png)"
   ]
  },
  {
   "cell_type": "code",
   "execution_count": 1,
   "metadata": {},
   "outputs": [],
   "source": [
    "# lots of imports!\n",
    "import string\n",
    "import typing as t\n",
    "from collections import defaultdict\n",
    "from functools import partial, reduce\n",
    "\n",
    "import nltk\n",
    "import numpy as np\n",
    "from nltk import word_tokenize\n",
    "\n",
    "if t.TYPE_CHECKING:\n",
    "    import typing_extensions as te\n",
    "\n",
    "# typevar stuff\n",
    "T = t.TypeVar('T')\n",
    "T_contra = t.TypeVar('T_contra', contravariant=True)\n",
    "\n",
    "class SupportsLessThan(t.Protocol[T_contra]):\n",
    "    def __lt__(self, __other: T_contra) -> bool: ...\n",
    "\n",
    "SupportsLessThanT = t.TypeVar('SupportsLessThanT', bound=SupportsLessThan)"
   ]
  },
  {
   "cell_type": "code",
   "execution_count": 2,
   "metadata": {},
   "outputs": [],
   "source": [
    "# cipher generator, creates a substitution cipher\n",
    "class SubstitutionCipherGenerator:\n",
    "    def __init__(self, seed: t.Optional[int] = None):\n",
    "        self.random = np.random.default_rng(seed)\n",
    "\n",
    "    def generate(self) -> str:\n",
    "        return ''.join(string.ascii_uppercase[x] for x in self.random.permutation(26))\n",
    "\n",
    "    def __iter__(self) -> 'te.Self':\n",
    "        return self\n",
    "\n",
    "    def __next__(self) -> str:\n",
    "        return self.generate()\n",
    "\n",
    "    @staticmethod\n",
    "    def to_translate(cipher: str) -> t.Dict[int, t.Optional[int]]:\n",
    "        return str.maketrans(string.ascii_uppercase, cipher)"
   ]
  },
  {
   "cell_type": "code",
   "execution_count": 3,
   "metadata": {},
   "outputs": [
    {
     "data": {
      "text/plain": [
       "'VJNKYFDZICRAQLPMWHGESOUXBT'"
      ]
     },
     "execution_count": 3,
     "metadata": {},
     "output_type": "execute_result"
    }
   ],
   "source": [
    "cipher_gen = SubstitutionCipherGenerator(1234)\n",
    "next(cipher_gen)"
   ]
  },
  {
   "cell_type": "code",
   "execution_count": 4,
   "metadata": {},
   "outputs": [
    {
     "name": "stdout",
     "output_type": "stream",
     "text": [
      "File ‘files/moby_dick.txt’ already there; not retrieving.\n"
     ]
    },
    {
     "data": {
      "text/plain": [
       "['CHAPTER', '1', '.', 'LOOMINGS', '.', 'CALL', 'ME', 'ISHMAEL', '.', 'SOME']"
      ]
     },
     "execution_count": 4,
     "metadata": {},
     "output_type": "execute_result"
    }
   ],
   "source": [
    "# download and read Mobi Dick as corpus (UTF-8 BOM)\n",
    "!wget -O files/moby_dick.txt -nc https://lazyprogrammer.me/course_files/moby_dick.txt\n",
    "corpus = word_tokenize(open('files/moby_dick.txt', encoding='utf-8-sig').read().upper())\n",
    "corpus[:10]"
   ]
  },
  {
   "cell_type": "code",
   "execution_count": 5,
   "metadata": {},
   "outputs": [],
   "source": [
    "# build a character-based language model (1- and 2-grams)\n",
    "class LanguageModel:\n",
    "    remove_punctuation = str.maketrans('', '', string.punctuation)\n",
    "    vocab = defaultdict(lambda: 26, zip(string.ascii_uppercase, range(26)))\n",
    "\n",
    "    def __init__(self):\n",
    "        self.pi: np.ndarray = np.ones(27)\n",
    "        self.A: np.ndarray = np.ones((27, 27))\n",
    "        self.P: np.ndarray = np.ones(27)\n",
    "\n",
    "    def fit(self, documents: t.List[str]) -> 'te.Self':\n",
    "        for document in documents:\n",
    "            document = document.upper().translate(self.remove_punctuation)\n",
    "            if not document:\n",
    "                continue\n",
    "            generator = iter(document)\n",
    "            first = next(generator)\n",
    "            last = self.vocab[first]\n",
    "            self.pi[last] += 1\n",
    "            self.P[last] += 1\n",
    "            for character in generator:\n",
    "                idx = self.vocab[character]\n",
    "                self.A[last, idx] += 1\n",
    "                self.P[idx] += 1\n",
    "                last = idx\n",
    "        self.pi = np.log(self.pi / (np.sum(self.pi) + 27))\n",
    "        self.A = np.log(self.A / (np.array([np.sum(self.A, axis=1)]).T + 26))\n",
    "        self.P = np.log(self.P / (np.sum(self.P) + 27))\n",
    "        return self\n",
    "\n",
    "    def probability(self, document: str) -> np.floating:\n",
    "        tokens = word_tokenize(document)\n",
    "        result = np.float64(0)\n",
    "        for token in tokens:\n",
    "            token = token.upper().translate(self.remove_punctuation)\n",
    "            if not token:\n",
    "                continue\n",
    "            generator = iter(token)\n",
    "            last = self.vocab[next(generator)]\n",
    "            result += self.pi[last] + self.P[last]\n",
    "            for character in generator:\n",
    "                idx = self.vocab[character]\n",
    "                result += self.A[last, idx] + self.P[idx]\n",
    "                last = idx\n",
    "        return result"
   ]
  },
  {
   "cell_type": "code",
   "execution_count": 6,
   "metadata": {},
   "outputs": [
    {
     "data": {
      "text/plain": [
       "array([-2.51281796, -4.04021945, -3.7522212 , -3.22106444, -2.10497572,\n",
       "       -3.83044031, -3.82970805, -2.7261953 , -2.6848464 , -6.7895887 ,\n",
       "       -4.77808126, -3.11097836, -3.71856204, -2.68219406, -2.62829562,\n",
       "       -4.01882603, -6.41471871, -2.91482374, -2.70491092, -2.38903189,\n",
       "       -3.58200044, -4.71925156, -3.7689801 , -6.842767  , -4.04015922,\n",
       "       -7.31974625, -4.77280421])"
      ]
     },
     "execution_count": 6,
     "metadata": {},
     "output_type": "execute_result"
    }
   ],
   "source": [
    "model = LanguageModel().fit(corpus)\n",
    "model.P"
   ]
  },
  {
   "cell_type": "code",
   "execution_count": 7,
   "metadata": {},
   "outputs": [
    {
     "data": {
      "text/plain": [
       "array([ -2.23649354,  -3.00084596,  -3.27888866,  -3.64681714,\n",
       "        -4.03782163,  -3.29291793,  -4.15306287,  -2.79040537,\n",
       "        -2.72089777,  -5.58797166,  -5.4708722 ,  -3.61109286,\n",
       "        -3.27596004,  -3.81755352,  -2.75425197,  -3.61024143,\n",
       "        -5.73192442,  -4.05679453,  -2.41089207,  -1.83012394,\n",
       "        -4.41777318,  -4.94075895,  -2.72650906, -10.4969433 ,\n",
       "        -4.48445139,  -8.76234225,  -3.51966196])"
      ]
     },
     "execution_count": 7,
     "metadata": {},
     "output_type": "execute_result"
    }
   ],
   "source": [
    "model.pi"
   ]
  },
  {
   "cell_type": "code",
   "execution_count": 8,
   "metadata": {},
   "outputs": [
    {
     "data": {
      "text/plain": [
       "-2.223640267275985"
      ]
     },
     "execution_count": 8,
     "metadata": {},
     "output_type": "execute_result"
    }
   ],
   "source": [
    "model.A[model.vocab['A'], model.vocab['R']]"
   ]
  },
  {
   "cell_type": "code",
   "execution_count": 9,
   "metadata": {},
   "outputs": [
    {
     "data": {
      "text/plain": [
       "-42.107382554844726"
      ]
     },
     "execution_count": 9,
     "metadata": {},
     "output_type": "execute_result"
    }
   ],
   "source": [
    "model.probability('xyz')"
   ]
  },
  {
   "cell_type": "code",
   "execution_count": 10,
   "metadata": {},
   "outputs": [
    {
     "data": {
      "text/plain": [
       "-13.239658835751746"
      ]
     },
     "execution_count": 10,
     "metadata": {},
     "output_type": "execute_result"
    }
   ],
   "source": [
    "model.probability('are')"
   ]
  },
  {
   "cell_type": "code",
   "execution_count": 11,
   "metadata": {},
   "outputs": [],
   "source": [
    "# cipher encoder and decoder\n",
    "class Cipher:\n",
    "    def __init__(self, cipher: str):\n",
    "        self.cipher = str.maketrans(string.ascii_uppercase, cipher)\n",
    "        self.reverse = str.maketrans(cipher, string.ascii_uppercase)\n",
    "\n",
    "    def encode(self, text: str) -> str:\n",
    "        return text.upper().translate(self.cipher)\n",
    "\n",
    "    def decode(self, text: str) -> str:\n",
    "        return text.upper().translate(self.reverse)"
   ]
  },
  {
   "cell_type": "code",
   "execution_count": 12,
   "metadata": {},
   "outputs": [],
   "source": [
    "# utility functions\n",
    "def encode(text: str, cipher: str):\n",
    "    return Cipher(cipher).encode(text)\n",
    "\n",
    "def decode(text: str, cipher: str):\n",
    "    return Cipher(cipher).decode(text)"
   ]
  },
  {
   "cell_type": "code",
   "execution_count": 13,
   "metadata": {},
   "outputs": [],
   "source": [
    "# genetic algorithm\n",
    "def genetic_algorithm(\n",
    "    f: t.Callable[[T], SupportsLessThanT],\n",
    "    rand: t.Callable[[], T],\n",
    "    mutate: t.Callable[[T, int], t.List[T]],\n",
    "    offspring: int = 3,\n",
    "    parents: int = 5,\n",
    "    iterations: int = 10000,\n",
    ") -> t.List[T]:\n",
    "    def mutator(parent: T) -> t.List[T]:\n",
    "        return mutate(parent, offspring)\n",
    "    pool = [rand() for _ in range(offspring * parents + parents)]\n",
    "    for i in range(iterations):\n",
    "        if i > 0:\n",
    "            pool += reduce(list.__add__, map(mutator, pool))\n",
    "        scores = list(map(f, pool))\n",
    "        indices = sorted(range(len(pool)), key=scores.__getitem__, reverse=True)\n",
    "        pool = list(map(pool.__getitem__, indices[:parents]))\n",
    "    return pool"
   ]
  },
  {
   "cell_type": "code",
   "execution_count": 14,
   "metadata": {},
   "outputs": [
    {
     "data": {
      "text/plain": [
       "('JCDTMKYPUHRZQONWGEBXVAFLIS', 'U XPMO ZNV')"
      ]
     },
     "execution_count": 14,
     "metadata": {},
     "output_type": "execute_result"
    }
   ],
   "source": [
    "# create cipher text\n",
    "raw_text = '''I then lounged down the street and found,\n",
    "as I expected, that there was a mews in a lane which runs down\n",
    "by one wall of the garden. I lent the ostlers a hand in rubbing\n",
    "down their horses, and received in exchange twopence, a glass of\n",
    "half-and-half, two fills of shag tobacco, and as much information\n",
    "as I could desire about Miss Adler, to say nothing of half a dozen\n",
    "other people in the neighbourhood in whom I was not in the least\n",
    "interested, but whose biographies I was compelled to listen to.'''\n",
    "real_cipher = cipher_gen.generate()\n",
    "cipher_text = encode(raw_text, real_cipher)\n",
    "real_cipher, cipher_text[:10]"
   ]
  },
  {
   "cell_type": "code",
   "execution_count": 15,
   "metadata": {},
   "outputs": [],
   "source": [
    "# prepare for the algorithm\n",
    "def f(cipher: str) -> float:\n",
    "    decoded = decode(cipher_text, cipher)\n",
    "    return float(model.probability(decoded))\n",
    "\n",
    "random_cipher = cipher_gen.generate\n",
    "\n",
    "class CipherMutator:\n",
    "    def __init__(self, seed: t.Optional[int] = None):\n",
    "        self.random = np.random.default_rng(seed)\n",
    "\n",
    "    def mutate(self, cipher: str) -> str:\n",
    "        i = j = 0\n",
    "        while i == j:\n",
    "            i, j = self.random.choice(len(cipher), size=2)\n",
    "        if i > j:\n",
    "            i, j = j, i\n",
    "        return cipher[:i] + cipher[j] + cipher[i+1:j] + cipher[i] + cipher[j+1:]\n",
    "\n",
    "    def mutate_many(self, cipher: str, count: int) -> t.List[str]:\n",
    "        ciphers = set()\n",
    "        while len(ciphers) < count:\n",
    "            ciphers.add(self.mutate(cipher))\n",
    "        return list(ciphers)\n",
    "\n",
    "mutator = CipherMutator(4321)\n",
    "mutate = mutator.mutate_many"
   ]
  },
  {
   "cell_type": "code",
   "execution_count": 16,
   "metadata": {},
   "outputs": [
    {
     "data": {
      "text/plain": [
       "(['JCDTMKYPUHSZQONWGEBXVAFLIR',\n",
       "  'JCDTMKYPUHSZQONWGEBXVAFLIR',\n",
       "  'JCDTMKYPUHSZQONWREBXVAFLIG',\n",
       "  'JCDTMKYPUGSZQONWHEBXVAFLIR',\n",
       "  'JCDTMKYPUGSZQONWHEBXVAFLIR'],\n",
       " 'JCDTMKYPUHRZQONWGEBXVAFLIS')"
      ]
     },
     "execution_count": 16,
     "metadata": {},
     "output_type": "execute_result"
    }
   ],
   "source": [
    "# run the algorithm!\n",
    "solution = genetic_algorithm(f, random_cipher, mutate, iterations=1000)\n",
    "solution, real_cipher"
   ]
  },
  {
   "cell_type": "code",
   "execution_count": 17,
   "metadata": {},
   "outputs": [
    {
     "data": {
      "text/plain": [
       "'I THEN LOUNGED DOWN THE STREET AND FOUND,\\nAS I EXPECTED, THAT THERE WAS A MEWS IN A LANE WHICH RUNS DOWN\\nBY ONE WALL OF THE GARDEN. I LENT THE OSTLERS A HAND IN RUBBING\\nDOWN THEIR HORSES, AND RECEIVED IN EXCHANGE TWOPENCE, A GLASS OF\\nHALF-AND-HALF, TWO FILLS OF SHAG TOBACCO, AND AS MUCH INFORMATION\\nAS I COULD DESIRE ABOUT MISS ADLER, TO SAY NOTHING OF HALF A DOKEN\\nOTHER PEOPLE IN THE NEIGHBOURHOOD IN WHOM I WAS NOT IN THE LEAST\\nINTERESTED, BUT WHOSE BIOGRAPHIES I WAS COMPELLED TO LISTEN TO.'"
      ]
     },
     "execution_count": 17,
     "metadata": {},
     "output_type": "execute_result"
    }
   ],
   "source": [
    "# what would that look like?\n",
    "decode(cipher_text, solution[0])"
   ]
  },
  {
   "cell_type": "code",
   "execution_count": 18,
   "metadata": {},
   "outputs": [
    {
     "data": {
      "text/plain": [
       "(-2064.330329785218, -2058.3277878035306)"
      ]
     },
     "execution_count": 18,
     "metadata": {},
     "output_type": "execute_result"
    }
   ],
   "source": [
    "model.probability(raw_text), model.probability(decode(cipher_text, solution[0]))"
   ]
  },
  {
   "cell_type": "code",
   "execution_count": 19,
   "metadata": {},
   "outputs": [
    {
     "name": "stdout",
     "output_type": "stream",
     "text": [
      "K\n",
      "Z\n"
     ]
    }
   ],
   "source": [
    "for i, (guess, real) in enumerate(zip(solution[0], real_cipher)):\n",
    "    if guess != real:\n",
    "        print(chr(ord('A') + i))"
   ]
  }
 ],
 "metadata": {
  "kernelspec": {
   "display_name": "Python 3",
   "language": "python",
   "name": "python3"
  },
  "language_info": {
   "codemirror_mode": {
    "name": "ipython",
    "version": 3
   },
   "file_extension": ".py",
   "mimetype": "text/x-python",
   "name": "python",
   "nbconvert_exporter": "python",
   "pygments_lexer": "ipython3",
   "version": "3.10.6"
  },
  "orig_nbformat": 4,
  "vscode": {
   "interpreter": {
    "hash": "916dbcbb3f70747c44a77c7bcd40155683ae19c65e1c03b4aa3499c5328201f1"
   }
  }
 },
 "nbformat": 4,
 "nbformat_minor": 2
}
