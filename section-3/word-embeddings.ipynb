{
 "cells": [
  {
   "attachments": {},
   "cell_type": "markdown",
   "metadata": {},
   "source": [
    "# Neural Word Embeddings"
   ]
  },
  {
   "attachments": {},
   "cell_type": "markdown",
   "metadata": {},
   "source": [
    "## With gensim and word2vec"
   ]
  },
  {
   "cell_type": "code",
   "execution_count": 1,
   "metadata": {},
   "outputs": [],
   "source": [
    "import os\n",
    "if not os.path.exists('GoogleNews-vectors-negative300.bin'):\n",
    "    os.system('wget -nc https://lazyprogrammer.me/course_files/nlp/GoogleNews-vectors-negative300.bin.gz')\n",
    "    os.system('gunzip GoogleNews-vectors-negative300.bin.gz')"
   ]
  },
  {
   "cell_type": "code",
   "execution_count": 2,
   "metadata": {},
   "outputs": [],
   "source": [
    "from gensim.models import KeyedVectors\n",
    "\n",
    "vectors = KeyedVectors.load_word2vec_format(\n",
    "    'GoogleNews-vectors-negative300.bin', \n",
    "    binary=True,\n",
    ")  # type: KeyedVectors"
   ]
  },
  {
   "cell_type": "code",
   "execution_count": 3,
   "metadata": {},
   "outputs": [],
   "source": [
    "# a : b :: ? : d\n",
    "complete_analogy = lambda a, b, d: vectors.most_similar([a, d], [b])[0][0]\n",
    "analogy = lambda a, b, d: '%s : %s :: %s : %s' % (a, b, complete_analogy(a, b, d), d)"
   ]
  },
  {
   "cell_type": "code",
   "execution_count": 4,
   "metadata": {},
   "outputs": [
    {
     "data": {
      "text/plain": [
       "'king : man :: queen : woman'"
      ]
     },
     "execution_count": 4,
     "metadata": {},
     "output_type": "execute_result"
    }
   ],
   "source": [
    "analogy('king', 'man', 'woman')"
   ]
  },
  {
   "cell_type": "code",
   "execution_count": 5,
   "metadata": {},
   "outputs": [
    {
     "data": {
      "text/plain": [
       "'france : french :: england : english'"
      ]
     },
     "execution_count": 5,
     "metadata": {},
     "output_type": "execute_result"
    }
   ],
   "source": [
    "analogy('france', 'french', 'english')"
   ]
  },
  {
   "cell_type": "code",
   "execution_count": 6,
   "metadata": {},
   "outputs": [
    {
     "data": {
      "text/plain": [
       "'december : november :: february : july'"
      ]
     },
     "execution_count": 6,
     "metadata": {},
     "output_type": "execute_result"
    }
   ],
   "source": [
    "analogy('december', 'november', 'july')"
   ]
  },
  {
   "cell_type": "code",
   "execution_count": 7,
   "metadata": {},
   "outputs": [
    {
     "data": {
      "text/plain": [
       "'einstein : scientist :: jude : painter'"
      ]
     },
     "execution_count": 7,
     "metadata": {},
     "output_type": "execute_result"
    }
   ],
   "source": [
    "analogy('einstein', 'scientist', 'painter')"
   ]
  },
  {
   "cell_type": "code",
   "execution_count": 8,
   "metadata": {},
   "outputs": [
    {
     "data": {
      "text/plain": [
       "'man : woman :: brother : sister'"
      ]
     },
     "execution_count": 8,
     "metadata": {},
     "output_type": "execute_result"
    }
   ],
   "source": [
    "analogy('man', 'woman', 'sister')"
   ]
  },
  {
   "cell_type": "code",
   "execution_count": 9,
   "metadata": {},
   "outputs": [
    {
     "data": {
      "text/plain": [
       "'man : woman :: uncle : aunt'"
      ]
     },
     "execution_count": 9,
     "metadata": {},
     "output_type": "execute_result"
    }
   ],
   "source": [
    "analogy('man', 'woman', 'aunt')"
   ]
  },
  {
   "cell_type": "code",
   "execution_count": 10,
   "metadata": {},
   "outputs": [
    {
     "data": {
      "text/plain": [
       "'man : woman :: dad : mom'"
      ]
     },
     "execution_count": 10,
     "metadata": {},
     "output_type": "execute_result"
    }
   ],
   "source": [
    "analogy('man', 'woman', 'mom')"
   ]
  },
  {
   "cell_type": "code",
   "execution_count": 11,
   "metadata": {},
   "outputs": [
    {
     "data": {
      "text/plain": [
       "'man : woman :: actor : actress'"
      ]
     },
     "execution_count": 11,
     "metadata": {},
     "output_type": "execute_result"
    }
   ],
   "source": [
    "analogy('man', 'woman', 'actress')"
   ]
  },
  {
   "cell_type": "code",
   "execution_count": 12,
   "metadata": {},
   "outputs": [
    {
     "data": {
      "text/plain": [
       "'nephew : niece :: uncle : aunt'"
      ]
     },
     "execution_count": 12,
     "metadata": {},
     "output_type": "execute_result"
    }
   ],
   "source": [
    "analogy('nephew', 'niece', 'aunt')"
   ]
  },
  {
   "cell_type": "code",
   "execution_count": 13,
   "metadata": {},
   "outputs": [],
   "source": [
    "# similar words\n",
    "similar = lambda word: [x[0] for x in vectors.most_similar([word])]"
   ]
  },
  {
   "cell_type": "code",
   "execution_count": 14,
   "metadata": {},
   "outputs": [
    {
     "data": {
      "text/plain": [
       "['kings',\n",
       " 'queen',\n",
       " 'monarch',\n",
       " 'crown_prince',\n",
       " 'prince',\n",
       " 'sultan',\n",
       " 'ruler',\n",
       " 'princes',\n",
       " 'Prince_Paras',\n",
       " 'throne']"
      ]
     },
     "execution_count": 14,
     "metadata": {},
     "output_type": "execute_result"
    }
   ],
   "source": [
    "similar('king')"
   ]
  },
  {
   "cell_type": "code",
   "execution_count": 15,
   "metadata": {},
   "outputs": [
    {
     "data": {
      "text/plain": [
       "['Mom',\n",
       " 'dad',\n",
       " 'mother',\n",
       " 'grandma',\n",
       " 'mommy',\n",
       " 'daddy',\n",
       " 'moms',\n",
       " 'Dad',\n",
       " 'daughter',\n",
       " 'mama']"
      ]
     },
     "execution_count": 15,
     "metadata": {},
     "output_type": "execute_result"
    }
   ],
   "source": [
    "similar('mom')"
   ]
  },
  {
   "cell_type": "code",
   "execution_count": 16,
   "metadata": {},
   "outputs": [
    {
     "data": {
      "text/plain": [
       "['You',\n",
       " 'your',\n",
       " 'yourself',\n",
       " 'I',\n",
       " 'we',\n",
       " \"Don'tI\",\n",
       " 'somebody',\n",
       " 'yours',\n",
       " 'ifyou',\n",
       " 'youre']"
      ]
     },
     "execution_count": 16,
     "metadata": {},
     "output_type": "execute_result"
    }
   ],
   "source": [
    "similar('you')"
   ]
  },
  {
   "cell_type": "code",
   "execution_count": 17,
   "metadata": {},
   "outputs": [
    {
     "data": {
      "text/plain": [
       "['anything',\n",
       " 'Nothing',\n",
       " 'something',\n",
       " 'everything',\n",
       " 'nobody',\n",
       " 'no',\n",
       " 'anybody',\n",
       " 'NOTHING',\n",
       " 'never',\n",
       " 'certainly']"
      ]
     },
     "execution_count": 17,
     "metadata": {},
     "output_type": "execute_result"
    }
   ],
   "source": [
    "similar('nothing')"
   ]
  },
  {
   "cell_type": "code",
   "execution_count": 18,
   "metadata": {},
   "outputs": [
    {
     "data": {
      "text/plain": [
       "['jesus_christ',\n",
       " 'christ',\n",
       " 'cuz_u',\n",
       " 'jesse',\n",
       " 'jessie',\n",
       " 'lmfao',\n",
       " 'hahah',\n",
       " 'angelina',\n",
       " 'hitler',\n",
       " 'michele']"
      ]
     },
     "execution_count": 18,
     "metadata": {},
     "output_type": "execute_result"
    }
   ],
   "source": [
    "similar('jesus')"
   ]
  },
  {
   "cell_type": "code",
   "execution_count": 19,
   "metadata": {},
   "outputs": [
    {
     "data": {
      "text/plain": [
       "['nikki',\n",
       " 'lmfao',\n",
       " 'albert',\n",
       " 'armstrong',\n",
       " 'joan',\n",
       " 'becky',\n",
       " 'mcmahon',\n",
       " 'conrad',\n",
       " 'lori',\n",
       " 'haley']"
      ]
     },
     "execution_count": 19,
     "metadata": {},
     "output_type": "execute_result"
    }
   ],
   "source": [
    "similar('einstein')"
   ]
  },
  {
   "cell_type": "code",
   "execution_count": 20,
   "metadata": {},
   "outputs": [
    {
     "data": {
      "text/plain": [
       "['japanese',\n",
       " 'tokyo',\n",
       " 'america',\n",
       " 'europe',\n",
       " 'germany',\n",
       " 'chinese',\n",
       " 'india',\n",
       " 'hawaii',\n",
       " 'usa',\n",
       " 'korea']"
      ]
     },
     "execution_count": 20,
     "metadata": {},
     "output_type": "execute_result"
    }
   ],
   "source": [
    "similar('japan')"
   ]
  },
  {
   "cell_type": "code",
   "execution_count": 21,
   "metadata": {},
   "outputs": [
    {
     "data": {
      "text/plain": [
       "['january',\n",
       " 'april',\n",
       " 'september',\n",
       " 'december',\n",
       " 'july',\n",
       " 'october',\n",
       " 'november',\n",
       " 'june',\n",
       " 'feb',\n",
       " 'norway']"
      ]
     },
     "execution_count": 21,
     "metadata": {},
     "output_type": "execute_result"
    }
   ],
   "source": [
    "similar('february')"
   ]
  },
  {
   "attachments": {},
   "cell_type": "markdown",
   "metadata": {},
   "source": [
    "## With GloVe"
   ]
  },
  {
   "cell_type": "code",
   "execution_count": 22,
   "metadata": {},
   "outputs": [],
   "source": [
    "import numpy as np\n",
    "import zipfile"
   ]
  },
  {
   "cell_type": "code",
   "execution_count": 23,
   "metadata": {},
   "outputs": [],
   "source": [
    "if not os.path.exists('glove.6B.zip'):\n",
    "    os.system('wget https://downloads.cs.stanford.edu/nlp/data/glove.6B.zip')"
   ]
  },
  {
   "cell_type": "code",
   "execution_count": 24,
   "metadata": {},
   "outputs": [],
   "source": [
    "zf = zipfile.ZipFile('glove.6B.zip')\n",
    "vecfile = zf.open('glove.6B.300d.txt')\n",
    "vectors = {}  # type: dict[str, np.ndarray]\n",
    "for line in vecfile:\n",
    "    parts = line.strip().split()\n",
    "    vectors[parts[0].decode()] = np.fromiter(map(float, parts[1:]), np.float64)\n",
    "vecfile.close()\n",
    "zf.close()"
   ]
  },
  {
   "cell_type": "code",
   "execution_count": 25,
   "metadata": {},
   "outputs": [
    {
     "data": {
      "text/plain": [
       "400000"
      ]
     },
     "execution_count": 25,
     "metadata": {},
     "output_type": "execute_result"
    }
   ],
   "source": [
    "len(vectors)"
   ]
  },
  {
   "cell_type": "code",
   "execution_count": 26,
   "metadata": {},
   "outputs": [],
   "source": [
    "def cosine_distance(a: np.ndarray, b: np.ndarray) -> float:\n",
    "    \"\"\"\n",
    "    Calculate the cosine distance between vectors A and B.\n",
    "    :param a: First vector.\n",
    "    :param b: Second vector.\n",
    "    :returns: The cosine distance between the two vectors.\n",
    "    \"\"\"\n",
    "    return np.dot(a, b) / (np.linalg.norm(a) * np.linalg.norm(b))"
   ]
  },
  {
   "cell_type": "code",
   "execution_count": 27,
   "metadata": {},
   "outputs": [],
   "source": [
    "def most_similar(\n",
    "    positive: 'list[str]' = [], negative: 'list[str]' = [], n: int = 10\n",
    ") -> 'list[tuple[str, float]]':\n",
    "    \"\"\"\n",
    "    Find the most similar word in the word embeddings based on vector arithmetic.\n",
    "    :param positive: Words that contribute positively.\n",
    "    :param negative: Words that contribute negatively.\n",
    "    :param n: The number of words to return. Defaults to 10.\n",
    "    :returns: A list of words that match, along with the similarity score.\n",
    "    \"\"\"\n",
    "    vector = (\n",
    "        sum(map(vectors.__getitem__, positive)) - \n",
    "        sum(map(vectors.__getitem__, negative))\n",
    "    )\n",
    "    return sorted(\n",
    "        map(lambda x: (x, cosine_distance(vectors[x], vector)), vectors),\n",
    "        key=lambda x: x[1],\n",
    "        reverse=True\n",
    "    )[1:n+1]"
   ]
  },
  {
   "cell_type": "code",
   "execution_count": 28,
   "metadata": {},
   "outputs": [
    {
     "data": {
      "text/plain": [
       "[('japanese', 0.7691404009675367),\n",
       " ('tokyo', 0.6798692510962566),\n",
       " ('korea', 0.6341603444298923),\n",
       " ('china', 0.5610884241078687),\n",
       " ('asia', 0.5156282096770336),\n",
       " ('osaka', 0.5043541522145066),\n",
       " ('hashimoto', 0.5004937296110379),\n",
       " ('taiwan', 0.49872112407565194),\n",
       " ('philippines', 0.49657005762400086),\n",
       " ('thailand', 0.4923372993147826)]"
      ]
     },
     "execution_count": 28,
     "metadata": {},
     "output_type": "execute_result"
    }
   ],
   "source": [
    "most_similar(['japan'])"
   ]
  },
  {
   "cell_type": "code",
   "execution_count": 31,
   "metadata": {},
   "outputs": [],
   "source": [
    "# a : b :: ? : d\n",
    "complete_analogy = lambda a, b, d: most_similar([a, d], [b])[0][0]\n",
    "analogy = lambda a, b, d: '%s : %s :: %s : %s' % (a, b, complete_analogy(a, b, d), d)\n",
    "similar = lambda word: [x[0] for x in most_similar([word])]"
   ]
  },
  {
   "cell_type": "code",
   "execution_count": 32,
   "metadata": {},
   "outputs": [
    {
     "data": {
      "text/plain": [
       "'king : man :: queen : woman'"
      ]
     },
     "execution_count": 32,
     "metadata": {},
     "output_type": "execute_result"
    }
   ],
   "source": [
    "analogy('king', 'man', 'woman')"
   ]
  },
  {
   "cell_type": "code",
   "execution_count": 33,
   "metadata": {},
   "outputs": [
    {
     "data": {
      "text/plain": [
       "'france : french :: england : english'"
      ]
     },
     "execution_count": 33,
     "metadata": {},
     "output_type": "execute_result"
    }
   ],
   "source": [
    "analogy('france', 'french', 'english')"
   ]
  },
  {
   "cell_type": "code",
   "execution_count": 34,
   "metadata": {},
   "outputs": [
    {
     "data": {
      "text/plain": [
       "'december : november :: december : july'"
      ]
     },
     "execution_count": 34,
     "metadata": {},
     "output_type": "execute_result"
    }
   ],
   "source": [
    "analogy('december', 'november', 'july')"
   ]
  },
  {
   "cell_type": "code",
   "execution_count": 35,
   "metadata": {},
   "outputs": [
    {
     "data": {
      "text/plain": [
       "'einstein : scientist :: picasso : painter'"
      ]
     },
     "execution_count": 35,
     "metadata": {},
     "output_type": "execute_result"
    }
   ],
   "source": [
    "analogy('einstein', 'scientist', 'painter')"
   ]
  },
  {
   "cell_type": "code",
   "execution_count": 36,
   "metadata": {},
   "outputs": [
    {
     "data": {
      "text/plain": [
       "'man : woman :: brother : sister'"
      ]
     },
     "execution_count": 36,
     "metadata": {},
     "output_type": "execute_result"
    }
   ],
   "source": [
    "analogy('man', 'woman', 'sister')"
   ]
  },
  {
   "cell_type": "code",
   "execution_count": 37,
   "metadata": {},
   "outputs": [
    {
     "data": {
      "text/plain": [
       "'man : woman :: uncle : aunt'"
      ]
     },
     "execution_count": 37,
     "metadata": {},
     "output_type": "execute_result"
    }
   ],
   "source": [
    "analogy('man', 'woman', 'aunt')"
   ]
  },
  {
   "cell_type": "code",
   "execution_count": 38,
   "metadata": {},
   "outputs": [
    {
     "data": {
      "text/plain": [
       "'man : woman :: mom : mom'"
      ]
     },
     "execution_count": 38,
     "metadata": {},
     "output_type": "execute_result"
    }
   ],
   "source": [
    "analogy('man', 'woman', 'mom')"
   ]
  },
  {
   "cell_type": "code",
   "execution_count": 39,
   "metadata": {},
   "outputs": [
    {
     "data": {
      "text/plain": [
       "'man : woman :: actress : actress'"
      ]
     },
     "execution_count": 39,
     "metadata": {},
     "output_type": "execute_result"
    }
   ],
   "source": [
    "analogy('man', 'woman', 'actress')"
   ]
  },
  {
   "cell_type": "code",
   "execution_count": 40,
   "metadata": {},
   "outputs": [
    {
     "data": {
      "text/plain": [
       "'nephew : niece :: aunt : aunt'"
      ]
     },
     "execution_count": 40,
     "metadata": {},
     "output_type": "execute_result"
    }
   ],
   "source": [
    "analogy('nephew', 'niece', 'aunt')"
   ]
  },
  {
   "cell_type": "code",
   "execution_count": 41,
   "metadata": {},
   "outputs": [
    {
     "data": {
      "text/plain": [
       "['queen',\n",
       " 'prince',\n",
       " 'monarch',\n",
       " 'kingdom',\n",
       " 'throne',\n",
       " 'ii',\n",
       " 'iii',\n",
       " 'crown',\n",
       " 'reign',\n",
       " 'kings']"
      ]
     },
     "execution_count": 41,
     "metadata": {},
     "output_type": "execute_result"
    }
   ],
   "source": [
    "similar('king')"
   ]
  },
  {
   "cell_type": "code",
   "execution_count": 42,
   "metadata": {},
   "outputs": [
    {
     "data": {
      "text/plain": [
       "['dad',\n",
       " 'mother',\n",
       " 'grandmother',\n",
       " 'kids',\n",
       " 'moms',\n",
       " 'aunt',\n",
       " 'grandma',\n",
       " 'my',\n",
       " 'parents',\n",
       " 'girl']"
      ]
     },
     "execution_count": 42,
     "metadata": {},
     "output_type": "execute_result"
    }
   ],
   "source": [
    "similar('mom')"
   ]
  },
  {
   "cell_type": "code",
   "execution_count": 43,
   "metadata": {},
   "outputs": [
    {
     "data": {
      "text/plain": [
       "[\"'ll\", \"n't\", '?', 'know', 'i', 'do', 'want', 'me', 'really', 'think']"
      ]
     },
     "execution_count": 43,
     "metadata": {},
     "output_type": "execute_result"
    }
   ],
   "source": [
    "similar('you')"
   ]
  },
  {
   "cell_type": "code",
   "execution_count": 44,
   "metadata": {},
   "outputs": [
    {
     "data": {
      "text/plain": [
       "['anything',\n",
       " 'something',\n",
       " 'else',\n",
       " \"n't\",\n",
       " 'what',\n",
       " 'certainly',\n",
       " 'thing',\n",
       " 'really',\n",
       " 'know',\n",
       " 'nobody']"
      ]
     },
     "execution_count": 44,
     "metadata": {},
     "output_type": "execute_result"
    }
   ],
   "source": [
    "similar('nothing')"
   ]
  },
  {
   "cell_type": "code",
   "execution_count": 45,
   "metadata": {},
   "outputs": [
    {
     "data": {
      "text/plain": [
       "['christ',\n",
       " 'crucifixion',\n",
       " 'god',\n",
       " 'resurrection',\n",
       " 'crucified',\n",
       " 'disciples',\n",
       " 'latter-day',\n",
       " 'holy',\n",
       " 'apostles',\n",
       " 'baptism']"
      ]
     },
     "execution_count": 45,
     "metadata": {},
     "output_type": "execute_result"
    }
   ],
   "source": [
    "similar('jesus')"
   ]
  },
  {
   "cell_type": "code",
   "execution_count": 46,
   "metadata": {},
   "outputs": [
    {
     "data": {
      "text/plain": [
       "['relativity',\n",
       " 'bohr',\n",
       " 'physicists',\n",
       " 'heisenberg',\n",
       " 'sigmund',\n",
       " 'freud',\n",
       " 'equations',\n",
       " 'theory',\n",
       " 'physics',\n",
       " 'physicist']"
      ]
     },
     "execution_count": 46,
     "metadata": {},
     "output_type": "execute_result"
    }
   ],
   "source": [
    "similar('einstein')"
   ]
  },
  {
   "cell_type": "code",
   "execution_count": 47,
   "metadata": {},
   "outputs": [
    {
     "data": {
      "text/plain": [
       "['japanese',\n",
       " 'tokyo',\n",
       " 'korea',\n",
       " 'china',\n",
       " 'asia',\n",
       " 'osaka',\n",
       " 'hashimoto',\n",
       " 'taiwan',\n",
       " 'philippines',\n",
       " 'thailand']"
      ]
     },
     "execution_count": 47,
     "metadata": {},
     "output_type": "execute_result"
    }
   ],
   "source": [
    "similar('japan')"
   ]
  },
  {
   "cell_type": "code",
   "execution_count": 48,
   "metadata": {},
   "outputs": [
    {
     "data": {
      "text/plain": [
       "['october',\n",
       " 'december',\n",
       " 'january',\n",
       " 'november',\n",
       " 'april',\n",
       " 'august',\n",
       " 'september',\n",
       " 'june',\n",
       " 'july',\n",
       " 'march']"
      ]
     },
     "execution_count": 48,
     "metadata": {},
     "output_type": "execute_result"
    }
   ],
   "source": [
    "similar('february')"
   ]
  }
 ],
 "metadata": {
  "kernelspec": {
   "display_name": "Python 3",
   "language": "python",
   "name": "python3"
  },
  "language_info": {
   "codemirror_mode": {
    "name": "ipython",
    "version": 3
   },
   "file_extension": ".py",
   "mimetype": "text/x-python",
   "name": "python",
   "nbconvert_exporter": "python",
   "pygments_lexer": "ipython3",
   "version": "3.10.6"
  },
  "orig_nbformat": 4,
  "vscode": {
   "interpreter": {
    "hash": "916dbcbb3f70747c44a77c7bcd40155683ae19c65e1c03b4aa3499c5328201f1"
   }
  }
 },
 "nbformat": 4,
 "nbformat_minor": 2
}
